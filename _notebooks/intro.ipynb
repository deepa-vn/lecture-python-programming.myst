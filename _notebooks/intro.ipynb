{
 "cells": [
  {
   "cell_type": "markdown",
   "metadata": {},
   "source": [
    "# Lập trình Python cho kinh tế và tài chính\n",
    "\n",
    "Trang web này trình bày các bài giảng về lập trình Python cho kinh tế và tài chính, được thiết kế và biên soạn bởi [Thomas J. Sargent](http://www.tomsargent.com/) và [John Stachurski](http://johnstachurski.net/). Bản tiếng Việt được dịch và hiệu đính bởi [Deepa VN](https://deepa.vn).\n",
    "\n",
    "Xem tổng quan về chuỗi bài giảng [tại đây](https://quantecon.org/python-lectures/)\n",
    "\n",
    "# Giới thiệu\n",
    "- [Giới thiệu Python](https://python-programming.quantecon.org/about_py.html)\n",
    "- [Setting up Your Python Environment](https://python-programming.quantecon.org/getting_started.html)\n",
    "- [An Introductory Example](https://python-programming.quantecon.org/python_by_example.html)\n",
    "- [Functions](https://python-programming.quantecon.org/functions.html)\n",
    "- [Python Essentials](https://python-programming.quantecon.org/python_essentials.html)\n",
    "- [OOP I: Introduction to Object Oriented Programming](https://python-programming.quantecon.org/oop_intro.html)\n",
    "- [OOP II: Building Classes](https://python-programming.quantecon.org/python_oop.html)\n",
    "\n",
    "\n",
    "# Các thư viện tính toán khoa học\n",
    "- [Python cho lập trình tính toán khoa học](https://python-programming.quantecon.org/need_for_speed.html)\n",
    "- [NumPy](https://python-programming.quantecon.org/numpy.html)\n",
    "- [Matplotlib](https://python-programming.quantecon.org/matplotlib.html)\n",
    "- [SciPy](https://python-programming.quantecon.org/scipy.html)\n",
    "- [Numba](https://python-programming.quantecon.org/numba.html)\n",
    "- [Parallelization](https://python-programming.quantecon.org/parallelization.html)\n",
    "- [Pandas](https://python-programming.quantecon.org/pandas.html)\n",
    "\n",
    "\n",
    "# Lập trình Python nâng cao\n",
    "- [Writing Good Code](https://python-programming.quantecon.org/writing_good_code.html)\n",
    "- [More Language Features](https://python-programming.quantecon.org/python_advanced_features.html)\n",
    "- [Debugging](https://python-programming.quantecon.org/debugging.html)\n",
    "\n",
    "\n",
    "# Khác\n",
    "- [Troubleshooting](https://python-programming.quantecon.org/troubleshooting.html)"
   ]
  }
 ],
 "metadata": {
  "date": 1614096143.4054317,
  "filename": "intro.md",
  "kernelspec": {
   "display_name": "Python",
   "language": "python3",
   "name": "python3"
  },
  "title": "Lập trình Python cho kinh tế và tài chính"
 },
 "nbformat": 4,
 "nbformat_minor": 4
}